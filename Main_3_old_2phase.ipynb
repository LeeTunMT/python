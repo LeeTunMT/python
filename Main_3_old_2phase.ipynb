{
  "cells": [
    {
      "cell_type": "markdown",
      "metadata": {
        "id": "view-in-github",
        "colab_type": "text"
      },
      "source": [
        "<a href=\"https://colab.research.google.com/github/LeeTunMT/python/blob/main/Main_3_old_2phase.ipynb\" target=\"_parent\"><img src=\"https://colab.research.google.com/assets/colab-badge.svg\" alt=\"Open In Colab\"/></a>"
      ]
    },
    {
      "cell_type": "markdown",
      "source": [
        "# **PROJECT LINEAR PROGRAMMING SOLVER - MTP TEAM**"
      ],
      "metadata": {
        "id": "SlvaEpvaKWSe"
      }
    },
    {
      "cell_type": "markdown",
      "source": [
        "## Introduction"
      ],
      "metadata": {
        "id": "WQ-PdH_rKqhR"
      }
    },
    {
      "cell_type": "markdown",
      "source": [
        "The Linear Programming Solver was designed to solve linear optimization problems efficiently. It supports various solving methods, making it versatile for different types of linear programming (LP) challenges.\n",
        "\n",
        "## Features\n",
        "\n",
        "1. **User-Friendly Input**: Easily specify objective functions, constraints, and variable bounds.\n",
        "2. **Multiple Methods**:\n",
        "    - **Simplex Method**: Classic approach for solving LP problems.\n",
        "    - **Two-Phase Simplex**: Finds feasible solutions with artificial variables.\n",
        "    - **Dual Simplex**: Efficient for initially infeasible problems.\n",
        "    - **Bland's Rule**: Prevents cycling in the Simplex method.\n",
        "3. **Automatic Normalization**: Converts constraints and objectives to standard form.\n",
        "4. **Detailed Results**: Provides optimal solutions, objective values, and solution steps.\n",
        "5. **Error Detection**: Identifies infeasibility, unboundedness, and cycling.\n",
        "\n",
        "## Usage\n",
        "\n",
        "Define the problem interactively:\n",
        "- Specify the objective function (minimize/maximize).\n",
        "- Input constraints and their bounds.\n",
        "- Define variable bounds.\n",
        "\n",
        "The solver normalizes the problem, selects the appropriate method, and provides the solution with detailed output."
      ],
      "metadata": {
        "id": "KWhIgu5gLGk7"
      }
    },
    {
      "cell_type": "markdown",
      "source": [
        "## Import Library"
      ],
      "metadata": {
        "id": "Vna46EYYKRoo"
      }
    },
    {
      "cell_type": "code",
      "execution_count": 156,
      "metadata": {
        "id": "0DJQlaH4hF2a"
      },
      "outputs": [],
      "source": [
        "import numpy as np\n",
        "import pandas as pd\n",
        "import warnings"
      ]
    },
    {
      "cell_type": "code",
      "execution_count": 157,
      "metadata": {
        "id": "XZfJUzTPhF2b"
      },
      "outputs": [],
      "source": [
        "warnings.filterwarnings(\"ignore\")"
      ]
    },
    {
      "cell_type": "markdown",
      "metadata": {
        "id": "yG-DLk-khF2b"
      },
      "source": [
        "# INPUT"
      ]
    },
    {
      "cell_type": "markdown",
      "metadata": {
        "id": "x9NYrtiehF2c"
      },
      "source": [
        "# Objective function"
      ]
    },
    {
      "cell_type": "code",
      "execution_count": 158,
      "metadata": {
        "id": "T1BkKMcYhF2c"
      },
      "outputs": [],
      "source": [
        "def Goal_func(MinMax, variables):\n",
        "    arrayObj_func = {}                                                     # Khởi tạo arrayObj_func , type = dict{}. Mục đích là để lưu các hệ số của từng biến\n",
        "    print(\"HÀM MỤC TIÊU\")                                                                   # trong hàm mục tiêu\n",
        "    print(\"Nhập các hệ số của hàm mục tiêu: \")\n",
        "    for i in range(1, variables + 1):                                      # vòng lặp để nhập hệ số của các biến trong hàm mục tiêu\n",
        "        arrayObj_func['x' + str(i)] = float(input('\\tHệ số của x' + str(i) + ' của hàm mục tiêu: '))   # lưu các hệ số đó vào arrayObj_func, với mỗi xi tương ứng. vđ {'x1': 1, 'x2': 3}\n",
        "\n",
        "    #Tiếp theo là in ra hàm mục tiêu\n",
        "    print(\"Hàm mục tiêu:   \", end='')\n",
        "    if MinMax == 0:\n",
        "        print('Min ', end='')\n",
        "    else:\n",
        "        print('Max ', end='')\n",
        "    for i in range(1, variables + 1):\n",
        "        if i != 1 and arrayObj_func['x' + str(i)] > 0:                     # Nếu hệ số không phải là của x1 và hệ số dương thì in thêm dấu '+' trước hệ số\n",
        "            print(' + ', end='')\n",
        "        else:\n",
        "            print(' ', end='')                                             # Nếu hệ số là của x1 và hệ số âm thì chỉ cần thêm vào 1 khoảng trống trước hệ số\n",
        "        print(str(arrayObj_func['x' + str(i)]) + '*x' + str(i), end='')    # In ra giá trị của hệ số\n",
        "\n",
        "    return arrayObj_func"
      ]
    },
    {
      "cell_type": "markdown",
      "metadata": {
        "id": "EJDOlsSRhF2d"
      },
      "source": [
        "## Constraints"
      ]
    },
    {
      "cell_type": "code",
      "execution_count": 159,
      "metadata": {
        "id": "PYKw9ytshF2d"
      },
      "outputs": [],
      "source": [
        "def constraints(variables, quantity):\n",
        "    arrayQuantity = {}                                                    # Khởi tạo arrayObj_func , type = dict{}. Mục đích là để lưu các hệ số của từng biến\n",
        "    print(\"\\n\\nCÁC RÀNG BUỘC BIẾN\")                                                                  # trong các ràng buộc\n",
        "    for i in range(1, variables + 1):\n",
        "        arrayQuantity['x' + str(i)] = [0 for j in range(quantity)]        # Cách làm tương tự như hàm mục tiêu, nhưng đầu tiên sẽ khởi tạo các hệ số là 0 trước\n",
        "\n",
        "    arrayQuantity['limited'] = [0 for j in range(quantity)]               # limited sẽ lưu các ràng buộc ≤, = và ≥\n",
        "    arrayQuantity['HeSo'] = [0 for j in range(quantity)]                  # HeSo sẽ lưu các giới hạn của ràng buộc (tức bi trong QHTT)\n",
        "\n",
        "    print(\"Nhập các hệ số của các ràng buộc và giới hạn của nó: \")\n",
        "    for i in range(quantity):                                             #Khởi tạo vòng lặp để nhập các giá trị cần thiết cho ràng buộc\n",
        "        print(\"Ràng buộc thứ \" + str(i + 1))\n",
        "        for j in range(1, variables + 1):                                 #Khởi tạo vòng lặp để nhập từng hệ số của biến trong từng ràng buộc\n",
        "            arrayQuantity['x' + str(j)][i] = float(input('\\tHệ số của x' + str(j) + ' của ràng buộc thứ ' + str(i+1) + ': '))       #Nhập hệ số từng biến\n",
        "\n",
        "        arrayQuantity['limited'][i] = int(input('\\tNhập vào ràng buộc ( ≤ : 0, ≥ : 1, = : 2): '))    #nhập vào ràng buộc ≤, = và ≥\n",
        "        arrayQuantity['HeSo'][i] = int(input('\\tNhập vào giới hạn của ràng buộc: '))          #nhập vào giới hạn của ràng buộc\n",
        "\n",
        "    return arrayQuantity"
      ]
    },
    {
      "cell_type": "code",
      "execution_count": 160,
      "metadata": {
        "id": "XJB6J6hWhF2d"
      },
      "outputs": [],
      "source": [
        "def show_contraints(arrayQuantity, quantity):\n",
        "    #In ra các ràng buộc để người dùng kiểm tra lại\n",
        "    print(\"Các ràng buộc biến vừa nhập: \")\n",
        "    for i in range(quantity):\n",
        "        for j in arrayQuantity:\n",
        "            if j != 'x1' and j != 'limited' and j != 'HeSo' and arrayQuantity[j][i] > 0:\n",
        "                print('  +', end='')\n",
        "                print(str(arrayQuantity[j][i]) + '*' + str(j), end='')\n",
        "            elif j == 'limited':\n",
        "                if arrayQuantity[j][i] == 0:\n",
        "                    arrayQuantity[j][i] = '≤'\n",
        "                elif arrayQuantity[j][i] == 1:\n",
        "                    arrayQuantity[j][i] = '≥'\n",
        "                elif arrayQuantity[j][i] == 2:\n",
        "                    arrayQuantity[j][i] = '='\n",
        "                print(\" \",arrayQuantity[j][i], end='')\n",
        "            elif j == 'HeSo':\n",
        "                if arrayQuantity[j][i] > 0:\n",
        "                    print(end=' ')\n",
        "                print(' ', str(arrayQuantity[j][i]), end='')\n",
        "            else:\n",
        "                if j == 'x1' and arrayQuantity[j][i] > 0:\n",
        "                    print(end=' ')\n",
        "                print(' ',str(arrayQuantity[j][i]) + '*' + str(j), end='')\n",
        "        print()"
      ]
    },
    {
      "cell_type": "markdown",
      "metadata": {
        "id": "IN4YA3Q3hF2d"
      },
      "source": [
        "### Constraints of each variable, ≤ 0, ≥ 0 or freedom"
      ]
    },
    {
      "cell_type": "code",
      "execution_count": 161,
      "metadata": {
        "id": "cd5GKUR9hF2d"
      },
      "outputs": [],
      "source": [
        "def constraint_for_variables(variables):\n",
        "    #Nhập vào ràng buộc của từng biến\n",
        "    print(\"\\nRÀNG BUỘC DẤU\")\n",
        "    print(\"Nhập ràng buộc dấu của từng biến: \")\n",
        "    arrayVariables = {}                                                           #Khởi tạo arrayVariables type dict{}, lưu các ràng buộc của từng biến\n",
        "    for i in range(1, variables + 1):                                             #dict sẽ có dạng ví dụ như sau: arrayVariables = {'x1': 0, 'x2': 1}\n",
        "                                                                            # Tương ứng với các giá trị 0, 1, 2 sẽ là ≤ 0, ≥ 0, tự do\n",
        "        arrayVariables['x' + str(i)] = int(input('\\tBiến ' + 'x ' + str(i) + ' (x ≤ 0 : 0;  x ≥ 0 : 1; biến tự do : 2) :'))\n",
        "\n",
        "    print('Các ràng buộc của từng biến là:')\n",
        "    for i in arrayVariables:\n",
        "        if arrayVariables[i] == 0:\n",
        "            print('\\t' + i + ' ≤ 0')\n",
        "        elif arrayVariables[i] == 1:\n",
        "            print('\\t' + i + ' ≥ 0')\n",
        "        else:\n",
        "            print('\\t' + i + ' tự do')\n",
        "\n",
        "    return arrayVariables"
      ]
    },
    {
      "cell_type": "code",
      "execution_count": 162,
      "metadata": {
        "id": "c55ulVuvhF2d"
      },
      "outputs": [],
      "source": [
        "def  Initialize_the_problem():\n",
        "    MinMax = int(input(\"NHẬP BÀI TOÁN QUY HOẠCH TUYẾN TÍNH\".center(120) + \"\\nNhập min/max của hàm mục tiêu (0 là min, 1 là max): \"))\n",
        "    variables = int(input(\"Nhập số lượng biến: \"))\n",
        "    quantity = int(input(\"Nhập số lượng ràng buộc của biến: \"))\n",
        "\n",
        "    print('NHẬP CÁC HỆ SỐ VÀ DẤU RÀNG BUỘC CHO HÀM MỤC TIÊU VÀ CÁC RÀNG BUỘC BIẾN'.center(120))\n",
        "    arrayObj_func =  Goal_func(MinMax, variables)\n",
        "    arrayQuantity = constraints(variables, quantity)\n",
        "    show_contraints(arrayQuantity, quantity)\n",
        "    arrayVariables = constraint_for_variables(variables)\n",
        "\n",
        "    return MinMax, variables, quantity, arrayObj_func, arrayQuantity, arrayVariables"
      ]
    },
    {
      "cell_type": "markdown",
      "metadata": {
        "id": "83O1h7kqhF2e"
      },
      "source": [
        "## Standardization"
      ]
    },
    {
      "cell_type": "markdown",
      "metadata": {
        "id": "sB4D6kjBhF2e"
      },
      "source": [
        "##### Standardize variable constraints"
      ]
    },
    {
      "cell_type": "code",
      "execution_count": 164,
      "metadata": {
        "id": "2nRkEMu_hF2e"
      },
      "outputs": [],
      "source": [
        "def Normalize_constraint_variable(arrayVariables, arrayQuantity, log_record, arrayObj_func, variables, quantity):\n",
        "    for i in arrayVariables:\n",
        "        # Chuẩn hóa khi ràng buộc về biến là ≤ 0\n",
        "        if arrayVariables[i] == 0:\n",
        "            log_record[i] = '-' + i  # Thay đổi biến đó thành dạng VD x1 = -x1\n",
        "            arrayObj_func[i] = -arrayObj_func[i]  # Sửa hàm mục tiêu\n",
        "            for j in range(quantity):  # Sửa các ràng buộc\n",
        "                arrayQuantity[i][j] = -arrayQuantity[i][j]\n",
        "\n",
        "        # Chuẩn hóa khi ràng buộc về biến là tự do\n",
        "        if arrayVariables[i] == 2:\n",
        "            new_var = 'x' + str(variables + 1)\n",
        "            log_record[i] = [i, new_var]  # Thêm biến mới\n",
        "            arrayObj_func[new_var] = -arrayObj_func[i]  # Sửa hàm mục tiêu cho biến mới\n",
        "            arrayQuantity[new_var] = [-arrayQuantity[i][j] for j in range(quantity)]  # Sửa ràng buộc cho biến mới\n",
        "            variables += 1\n",
        "\n",
        "    return arrayObj_func, variables, log_record, arrayQuantity\n"
      ]
    },
    {
      "cell_type": "markdown",
      "metadata": {
        "id": "Oerl7gmhhF2e"
      },
      "source": [
        "##### Standardize constraints"
      ]
    },
    {
      "cell_type": "code",
      "execution_count": 165,
      "metadata": {
        "id": "jWISeH1YhF2e"
      },
      "outputs": [],
      "source": [
        "def Normalize_constraints(arrayQuantity, quantity):\n",
        "    for j in range(quantity):\n",
        "        if arrayQuantity['limited'][j] == '≥':  # Với các ràng buộc ≥\n",
        "            for i in arrayQuantity:\n",
        "                if i != 'limited':\n",
        "                    arrayQuantity[i][j] = -arrayQuantity[i][j]\n",
        "            arrayQuantity['limited'][j] = '≤'  # Thay đổi ràng buộc thành ≤\n",
        "\n",
        "        if arrayQuantity['limited'][j] == '=':  # Với các ràng buộc =\n",
        "            for i in arrayQuantity:\n",
        "                if i != 'limited':\n",
        "                    arrayQuantity[i].append(arrayQuantity[i][j])\n",
        "                    arrayQuantity[i][j] = -arrayQuantity[i][j]\n",
        "            arrayQuantity['limited'].append('≤')\n",
        "            arrayQuantity['limited'][j] = '≤'\n",
        "            quantity += 1\n",
        "\n",
        "    return arrayQuantity, quantity"
      ]
    },
    {
      "cell_type": "markdown",
      "metadata": {
        "id": "fu300gZ9hF2e"
      },
      "source": [
        "##### Standardize goal function"
      ]
    },
    {
      "cell_type": "code",
      "execution_count": 166,
      "metadata": {
        "id": "qv-tmkumhF2e"
      },
      "outputs": [],
      "source": [
        "def Normalize_GoalFunction(MinMax, arrayObj_func):\n",
        "    if MinMax == 1:  # Chuẩn hóa hàm mục tiêu nếu là max\n",
        "        for i in arrayObj_func:\n",
        "            arrayObj_func[i] = -arrayObj_func[i]\n",
        "    return arrayObj_func"
      ]
    },
    {
      "cell_type": "code",
      "execution_count": 167,
      "metadata": {
        "id": "0AeDyIOfhF2e"
      },
      "outputs": [],
      "source": [
        "def Normalize(MinMax, arrayObj_func, arrayQuantity, arrayVariables, quantity, variables):\n",
        "    # Lưu lại các thay đổi về biến khi chuẩn hóa\n",
        "    log_record = {}\n",
        "\n",
        "    # Chuẩn hóa ràng buộc biến\n",
        "    arrayObj_func, variables, log_record, arrayQuantity = Normalize_constraint_variable(arrayVariables, arrayQuantity, log_record, arrayObj_func, variables, quantity)\n",
        "\n",
        "    # Chuẩn hóa các ràng buộc\n",
        "    arrayQuantity, quantity = Normalize_constraints(arrayQuantity, quantity)\n",
        "\n",
        "    # Chuẩn hóa hàm mục tiêu\n",
        "    arrayObj_func = Normalize_GoalFunction(MinMax, arrayObj_func)\n",
        "\n",
        "    return arrayObj_func, variables, log_record, arrayQuantity, quantity"
      ]
    },
    {
      "cell_type": "markdown",
      "metadata": {
        "id": "8jhqbrZNhF2f"
      },
      "source": [
        "## Put data into dataframe"
      ]
    },
    {
      "cell_type": "code",
      "execution_count": null,
      "metadata": {
        "id": "LAWc7KfchF2f"
      },
      "outputs": [],
      "source": [
        "def Initialize_the_problem_into_table(variables, quantity, arrayQuantity, arrayObj_func):\n",
        "    #### tạo một list chuẩn bị\n",
        "    #Bước này để lấy các hệ số trong ràng buộc trước đồng thời khởi tạo dataframe để giải bài toán dưới dạng bảng trong QHTT\n",
        "    prepare = {}\n",
        "    for i in range(1, variables + 1):\n",
        "        prepare['x' + str(i)] = arrayQuantity['x' + str(i)]\n",
        "        temp = arrayQuantity['x' + str(i)]\n",
        "    df = pd.DataFrame(prepare)\n",
        "\n",
        "    #Hàm này để đưa hàm mục tiêu vào dataframe\n",
        "    Obj_func_row = pd.DataFrame(arrayObj_func, index=[0])\n",
        "    df = pd.concat([Obj_func_row, df.loc[:]]).reset_index(drop=True)\n",
        "    # Sau đó là thêm vào các w0,w1,w2 và giới hạn của từng ràng buộc\n",
        "    HeSo = [0]\n",
        "    for i in range(1,quantity + 1):\n",
        "        df['w' + str(i)] = [0 for j in range(quantity + 1)]\n",
        "        df['w' + str(i)][i] = 1\n",
        "        HeSo.append(arrayQuantity['HeSo'][i-1])\n",
        "    df['HeSo'] = HeSo\n",
        "    return df"
      ]
    },
    {
      "cell_type": "markdown",
      "metadata": {
        "id": "FdyuzVJZhF2f"
      },
      "source": [
        "## Access to each math problem"
      ]
    },
    {
      "cell_type": "markdown",
      "metadata": {
        "id": "0wB23K0RhF2f"
      },
      "source": [
        "#### Dantzig function"
      ]
    },
    {
      "cell_type": "code",
      "execution_count": null,
      "metadata": {
        "id": "Y9B9PMzChF2f"
      },
      "outputs": [],
      "source": [
        "def dantzig(array):\n",
        "        array = np.array(array, dtype=np.float64) #dataframe thành array\n",
        "        pivot_row = -1 # khởi tạo biến, dùng để sử dụng theo dõi hàng pivot\n",
        "        pivot_col = -1 # và cột pivot\n",
        "        step_count = 0  # Biến đếm bước xoay từ vựng\n",
        "        while array[0, :-1].min() < 0: # duyệt giá trị hàm mục tiêu z có giá trị nhỏ nhất âm hay không, nếu có thì tiếp tục vòng lặp\n",
        "            pivot_col = np.argmin(array[0, :-1]) # gán vị trí của giá trị nhỏ nhất trong hàm mục tiêu vào pivot_col tìm biến vào\n",
        "            if (array[1:, pivot_col] <= 0).all(): # tìm biến ra, nếu các giá trị trong cột tương ứng với pivot_col(trừ hàng đầu tiên) nhỏ hơn hoặc bằng 0\n",
        "                return -1, array, step_count # trả về -1 ( ứng với trường hợp không giới nội)\n",
        "            else:\n",
        "                ratios = array[1:, -1] / array[1:, pivot_col] # lấy hệ số b tương ứng với cột (array[1:-1]) chia cho giá trị trong cột pivot_col để tìm biến ra.\n",
        "                ratios[array[1:, pivot_col] <= 0] = np.inf # gán giá trị ratios âm hoặc nhỏ hơn 0 vào giá trị inf để loại trừ nó và khỏi xem xét\n",
        "                pivot_row = np.argmin(ratios) + 1 # vị trí dòng có hệ số ratios nhỏ nhất(+1 vì bỏ dòng đầu tiên )\n",
        "            array[pivot_row, :] /= array[pivot_row, pivot_col] # biến đổi để giá trị ở array[pivot_row, pivot_col] = 1, và giá trị khác trong pivot_col = 0.\n",
        "            #pivot column lúc này trở thành biến cơ sở\n",
        "            for i in range(len(array)): # biến đổi các biến lại\n",
        "                if i != pivot_row:\n",
        "                    array[i, :] -= array[i, pivot_col] * array[pivot_row, :]\n",
        "            step_count += 1  # Tăng bước xoay từ vựng sau mỗi vòng lặp\n",
        "            #display(pd.DataFrame(array))\n",
        "        return 1, array, step_count\n"
      ]
    },
    {
      "cell_type": "markdown",
      "metadata": {
        "id": "KN40TLOYhF2f"
      },
      "source": [
        "#### Bland function"
      ]
    },
    {
      "cell_type": "code",
      "execution_count": null,
      "metadata": {
        "id": "aHfW_0kThF2f"
      },
      "outputs": [],
      "source": [
        "#Hàm Bland tương tự như hàm Dantzig\n",
        "def Bland(array):\n",
        "    array = np.array(array, dtype=np.float64)\n",
        "    pivot_row = -1\n",
        "    pivot_col = -1\n",
        "    step_count = 0  # Biến đếm bước xoay từ vựng\n",
        "    while array[0, :-1].min() < 0:\n",
        "        # gán vị trí âm có chỉ số nhỏ nhất( x1 > x2 > ...> w1 > w2> ....)\n",
        "        pivot_col = np.where(array[0, :-1] < 0)[0][0]\n",
        "        if (array[1:, pivot_col] <= 0).all():\n",
        "            return -1, array, step_count\n",
        "        else:\n",
        "            ratios = array[1:, -1] / array[1:, pivot_col]\n",
        "            ratios[array[1:, pivot_col] <= 0] = np.inf\n",
        "            pivot_row = np.argmin(ratios) + 1\n",
        "        array[pivot_row, :] /= array[pivot_row, pivot_col]\n",
        "        for i in range(len(array)):\n",
        "            if i != pivot_row:\n",
        "                array[i, :] -= array[i, pivot_col] * array[pivot_row, :]\n",
        "        step_count += 1  # Tăng bước xoay từ vựng sau mỗi vòng lặp\n",
        "    return 1, array, step_count"
      ]
    },
    {
      "cell_type": "markdown",
      "metadata": {
        "id": "Qm22wc3NhF2g"
      },
      "source": [
        "#### Two Phase function"
      ]
    },
    {
      "cell_type": "code",
      "execution_count": null,
      "metadata": {
        "id": "7mUe56JfhF2g"
      },
      "outputs": [],
      "source": [
        "# Ham xay dung bai toan bo tro dua tren bai toan goc\n",
        "def SupplementaryMath(data, cols_data, rows_data):\n",
        "    df = data.copy()\n",
        "    # Cho he so cua cac phan tu o ham muc tieu bang 0\n",
        "    for i in range(0, cols_data):\n",
        "        df.iloc[[0], [i]] = 0\n",
        "\n",
        "    # Tao cot x0\n",
        "    x0_values = [1] # Cho he so cua cac phan tu dau tien bang 1\n",
        "    for i in range(1, rows_data): # Cho he so cua cac phan tu con lai bang -1\n",
        "        x0_values.append(-1)\n",
        "\n",
        "    # Them cot x0 vao data frame\n",
        "    df.insert(cols_data-1, 'x0', x0_values)\n",
        "\n",
        "    return df"
      ]
    },
    {
      "cell_type": "markdown",
      "metadata": {
        "id": "pSKrueRhhF2g"
      },
      "source": [
        "##### Phase 1"
      ]
    },
    {
      "cell_type": "code",
      "execution_count": null,
      "metadata": {
        "id": "sPvU4WRShF2g"
      },
      "outputs": [],
      "source": [
        "# Ham tim vi tri cua phan tu x0\n",
        "def Find_x0_Index(df):\n",
        "    features_name = list(df.columns)\n",
        "    x0_index = features_name.index('x0')\n",
        "    return x0_index"
      ]
    },
    {
      "cell_type": "code",
      "execution_count": null,
      "metadata": {
        "id": "aODu9aqehF2g"
      },
      "outputs": [],
      "source": [
        "# Ham chuyen -0.0 -> +0.0\n",
        "def ConvertNegativeZero(matrix):\n",
        "    matrix += 0.0"
      ]
    },
    {
      "cell_type": "code",
      "execution_count": null,
      "metadata": {
        "id": "ThBklbG4hF2g"
      },
      "outputs": [],
      "source": [
        "# Ham tim phan tu cua bien vao\n",
        "def FindInputIndex(array, cols, rows):\n",
        "\n",
        "    min = array[0]\n",
        "    min_index = 0\n",
        "    for i in range(1, cols):\n",
        "        if array[i] < min:\n",
        "            min = array[i]\n",
        "            min_index = i\n",
        "\n",
        "    return min_index"
      ]
    },
    {
      "cell_type": "code",
      "execution_count": null,
      "metadata": {
        "id": "TIGv7A74hF2g"
      },
      "outputs": [],
      "source": [
        "def FirstStepOfPhase1(matrix, cols, rows, x0_index):\n",
        "\n",
        "    min = matrix[1][-1]/abs(matrix[1][x0_index])\n",
        "    row_min_index = 1\n",
        "    for i in range(2, rows):\n",
        "        if matrix[i][-1]/abs(matrix[i][x0_index]) < min:\n",
        "            min = matrix[i][-1]/abs(matrix[i][x0_index])\n",
        "            row_min_index = i\n",
        "\n",
        "    for i in range(0, rows):\n",
        "        if i != row_min_index:\n",
        "            coef = matrix[i][x0_index]/matrix[row_min_index][x0_index]\n",
        "            matrix[i][:] -= coef * matrix[row_min_index][:]\n",
        "    matrix[row_min_index][:] /= matrix[row_min_index][x0_index]\n",
        "\n",
        "    ConvertNegativeZero(matrix)\n",
        "\n",
        "    return matrix"
      ]
    },
    {
      "cell_type": "code",
      "execution_count": null,
      "metadata": {
        "id": "6wQUhgPlhF2h"
      },
      "outputs": [],
      "source": [
        "def RemainingSteps(matrix, cols, rows, input_index):\n",
        "\n",
        "    min = 100000000\n",
        "    row_min_index = -1\n",
        "    for i in range(1, rows):\n",
        "        if matrix[i][input_index] > 0:\n",
        "            if matrix[i][-1]/(matrix[i][input_index]) < min:\n",
        "                min = matrix[i][-1]/(matrix[i][input_index])\n",
        "                row_min_index = i\n",
        "    for i in range(0, rows):\n",
        "        if i != row_min_index and matrix[i][input_index] != 0:\n",
        "            coef = matrix[i][input_index]/matrix[row_min_index][input_index]\n",
        "            matrix[i][:] -= coef * matrix[row_min_index][:]\n",
        "    matrix[row_min_index][:] /= matrix[row_min_index][input_index]\n",
        "\n",
        "    ConvertNegativeZero(matrix)\n",
        "\n",
        "    return matrix\n"
      ]
    },
    {
      "cell_type": "code",
      "execution_count": null,
      "metadata": {
        "id": "IHsk7-tihF2h"
      },
      "outputs": [],
      "source": [
        "# Ham kiem tra cac dieu kien\n",
        "def CheckTheConditions(df, matrix, cols, rows, x0_index):\n",
        "    # Xoay lan dau tien doi voi x0 > 0\n",
        "    matrix = FirstStepOfPhase1(matrix, cols, rows, x0_index)\n",
        "\n",
        "    while True:\n",
        "        # Neu cac phan tu khac deu co he so bang 0 va x0 quay tro lai la bien chua co so\n",
        "        if np.all(matrix[0][:-2] == 0) == True and matrix[0][-1] == 0 and matrix[0][x0_index] == 1:\n",
        "            check = 2\n",
        "            break\n",
        "        # Neu cac phan tu khac deu co he so lon hon hoac bang 0 va x0 khong quay tro lai la bien co so\n",
        "        elif np.all(matrix[0][:-2] >= 0) == True and matrix[0][x0_index] == 0:\n",
        "            check = 0\n",
        "            break\n",
        "        # Truong hop con lai tim bien vao co so, tiep tuc xoay\n",
        "        else:\n",
        "            epsilon = matrix[0][:-2]\n",
        "            input_index = FindInputIndex(epsilon, cols-2, rows)\n",
        "            matrix = RemainingSteps(matrix, cols, rows, input_index)\n",
        "\n",
        "    return (matrix, check)"
      ]
    },
    {
      "cell_type": "code",
      "execution_count": null,
      "metadata": {
        "id": "rpWssFjChF2h"
      },
      "outputs": [],
      "source": [
        "# Ham tim nhung bien co so\n",
        "def FindBasicVariables(matrix, cols, rows):\n",
        "    # Tao danh sach chua vi tri cua bien co so trong cot va dong chua bien co so\n",
        "    basic_variables_index = []\n",
        "\n",
        "    for i in range(0, cols-1):\n",
        "        c0 = matrix[:, i] == 0\n",
        "        count0 = np.count_nonzero(c0 == True)\n",
        "        c1 = matrix[:, i] == 1\n",
        "        count1 = np.count_nonzero(c1 == True)\n",
        "\n",
        "        # Bien co so la nhung bien ma cot cua no chua 1 gia tri 1 va cac gia tri con lai bang 0\n",
        "        if count0 + count1 == rows:\n",
        "            row_index = np.where(c1 == True)\n",
        "            basic_variables_index.append((i, row_index[0][0]))\n",
        "\n",
        "    return basic_variables_index"
      ]
    },
    {
      "cell_type": "code",
      "execution_count": null,
      "metadata": {
        "id": "ZYdfdi5BhF2h"
      },
      "outputs": [],
      "source": [
        "# Ham tao ra z moi\n",
        "def New_z(data, matrix_data, matrix, cols_data, rows_data, cols, rows):\n",
        "    # Lay cac he so cua ham muc tieu o bai toan goc va bai toan bo tro\n",
        "    z = matrix_data[0][:]\n",
        "    z_new = matrix[0][:]\n",
        "\n",
        "    # Tim cac bien co so sau khi giai bai toan bo tro\n",
        "    basic_variables = FindBasicVariables(matrix, cols, rows)\n",
        "    bv_index = [] # Tao danh sach chua vi tri cua cac bien co so trong moi cot\n",
        "    bv_rows = [] # Tao danh sach chua dong chua bien co so trong mot cot\n",
        "    # Them cac bien vi tri cua cac bien co so trong moi cot va dong cua no vao hai danh sach\n",
        "    for i in range(0, len(basic_variables)):\n",
        "        bv_index.append(basic_variables[i][0])\n",
        "        bv_rows.append(basic_variables[i][1])\n",
        "    dictionary_index_rows = dict(zip(bv_index, bv_rows))\n",
        "\n",
        "    z_basic_variables_index = [] # Tao danh sach chua vi tri cua cac bien co so trong moi cot\n",
        "    z_non_basic_variables_index = [] # Tao danh sach chua vi tri cua cac bien khong co so trong moi cot\n",
        "    # Tien hanh them cac bien nay vao hai danh sach\n",
        "    for i in range(0, cols_data-1):\n",
        "        if i in bv_index and z[i] != 0: # Kiem tra neu bien nay la bien co so o z' va he so cua no o ham muc tieu goc khac 0\n",
        "            z_basic_variables_index.append(i)\n",
        "        elif i not in bv_index and z[i] != 0: # Kiem tra neu bien nay la bien khong co so o z' va he so cua no o ham muc tieu goc khac 0\n",
        "            z_non_basic_variables_index.append(i)\n",
        "\n",
        "    # Chuyen doi z ve z_new ung voi bai toan chap nhan duoc\n",
        "    for i in range(0, cols-1):\n",
        "        # Neu i dang xet la bien co so o bai toan bo tro\n",
        "        if i in z_basic_variables_index:\n",
        "            temp_i = dictionary_index_rows[i]\n",
        "            temp = matrix[temp_i][:].copy()\n",
        "            temp[i] = 0\n",
        "            temp[0:] *= -1\n",
        "            z_new += z[i] * temp\n",
        "        # Neu i dang xet la bien khong co so o bai toan bo tro\n",
        "        elif i in z_non_basic_variables_index:\n",
        "            temp = np.zeros(cols_data)\n",
        "            temp[i] = 1\n",
        "            z_new += z[i] * temp\n",
        "\n",
        "    return z_new"
      ]
    },
    {
      "cell_type": "code",
      "execution_count": null,
      "metadata": {
        "id": "KJLembRQhF2h"
      },
      "outputs": [],
      "source": [
        "# Ham tao ra bang chap nhan duoc\n",
        "def AcceptableTable(data, matrix_data, df, matrix, cols_data, rows_data, cols, rows):\n",
        "    # Tim z_new va them z_new vao ma tran\n",
        "    z_new = New_z(data, matrix_data, matrix, cols_data, rows_data, cols, rows)\n",
        "    matrix[0][:] = z_new\n",
        "\n",
        "    ConvertNegativeZero(matrix)\n",
        "\n",
        "    # Thay doi noi dung cho data frame goc\n",
        "    features_name = list(df.columns)\n",
        "    df = pd.DataFrame(matrix, columns=features_name)\n",
        "\n",
        "    return df # Tra ve data frame chap nhan duoc"
      ]
    },
    {
      "cell_type": "code",
      "execution_count": null,
      "metadata": {
        "id": "OcWOg37-hF2i"
      },
      "outputs": [],
      "source": [
        "# Ham thuc thi pha 1\n",
        "def Phase1(data, matrix_data, df, matrix, cols_data, rows_data, cols, rows, x0_index):\n",
        "    (matrix, check) = CheckTheConditions(df, matrix, cols, rows, x0_index)\n",
        "    if check == 2:\n",
        "        features_name = list(df.columns)\n",
        "        df = pd.DataFrame(matrix, columns=features_name)\n",
        "        df = df.drop(columns='x0')\n",
        "        matrix = np.delete(matrix, np.s_[x0_index:x0_index+1], axis=1)\n",
        "\n",
        "        df = AcceptableTable(data, matrix_data, df, matrix, cols_data, rows_data, cols, rows)\n",
        "        return check, df\n",
        "    return check, df"
      ]
    },
    {
      "cell_type": "code",
      "execution_count": 169,
      "metadata": {
        "id": "S5umgnd3hF2i"
      },
      "outputs": [],
      "source": [
        "def two_Phase(data):\n",
        "    # Lưu các thông số dòng và cột của data\n",
        "    rows_data, cols_data = data.shape\n",
        "    matrix_data = np.array(data, dtype=float)\n",
        "\n",
        "    # Đưa về bài toán bổ trợ\n",
        "    df = SupplementaryMath(data, cols_data, rows_data)\n",
        "\n",
        "    # Lưu các thông số dòng và cột của df\n",
        "    rows, cols = df.shape\n",
        "    matrix = np.array(df, dtype=float)\n",
        "\n",
        "    # Pha 1\n",
        "    x0_index = Find_x0_Index(df)\n",
        "    check, output = Phase1(data, matrix_data, df, matrix, cols_data, rows_data, cols, rows, x0_index)\n",
        "\n",
        "    # Biến đếm bước xoay từ vựng\n",
        "    step_count = 0\n",
        "\n",
        "    # Nếu Pha 1 trả về check == 2\n",
        "    if check == 2:\n",
        "        while np.any(output[0, :-1] < 0):\n",
        "            output = FirstStepOfPhase1(output, cols, rows, x0_index)\n",
        "            step_count += 1\n",
        "            if (output[0, :-1] < 0).all():\n",
        "                check = -1\n",
        "                break\n",
        "\n",
        "    return check, output, step_count\n"
      ]
    },
    {
      "cell_type": "markdown",
      "source": [
        "#### Dual Simplex method"
      ],
      "metadata": {
        "id": "x6gqA2bfQWIq"
      }
    },
    {
      "cell_type": "code",
      "source": [
        "def is_basic(column):\n",
        "    return sum(column) == 1 and len([c for c in column if c == 0]) == len(column) - 1\n",
        "\n",
        "def dual_simplex(array):\n",
        "    array = np.array(array, dtype=np.float64)\n",
        "    step_count = 0  # Counter for steps\n",
        "\n",
        "    while np.any(array[1:, -1] < 0):  # While there is a negative value in the RHS\n",
        "        pivot_row = np.argmin(array[1:, -1]) + 1  # Find the most negative value in RHS\n",
        "        row = array[pivot_row, :-1]\n",
        "        obj_func = array[0, :-1]\n",
        "\n",
        "        ratios = []\n",
        "        for i in range(len(row)):\n",
        "            if row[i] < 0:\n",
        "                ratios.append(obj_func[i] / row[i])\n",
        "            else:\n",
        "                ratios.append(np.inf)\n",
        "\n",
        "        pivot_col = np.argmin(ratios)\n",
        "        if ratios[pivot_col] == np.inf:\n",
        "            return -1, array, step_count\n",
        "\n",
        "        array = pivot(array, pivot_row, pivot_col)\n",
        "        step_count += 1\n",
        "\n",
        "    return 1, array, step_count\n",
        "\n",
        "def pivot(array, pivot_row, pivot_col):\n",
        "    array[pivot_row, :] /= array[pivot_row, pivot_col]\n",
        "    for i in range(len(array)):\n",
        "        if i != pivot_row:\n",
        "            array[i, :] -= array[i, pivot_col] * array[pivot_row, :]\n",
        "    return array"
      ],
      "metadata": {
        "id": "rB36WnvfQbma"
      },
      "execution_count": null,
      "outputs": []
    },
    {
      "cell_type": "markdown",
      "metadata": {
        "id": "j6gmsW6BhF2i"
      },
      "source": [
        "## Classify problem cases and apply appropriate solutions"
      ]
    },
    {
      "cell_type": "code",
      "execution_count": null,
      "metadata": {
        "id": "NlU5jeJqhF2i"
      },
      "outputs": [],
      "source": [
        "def is_basic(column):\n",
        "    # Kiểm tra xem cột có phải là biến cơ sở không\n",
        "    return sum(column) == 1 and len([c for c in column if c == 0]) == len(column) - 1"
      ]
    },
    {
      "cell_type": "code",
      "execution_count": null,
      "metadata": {
        "id": "ysIN-d0shF2i"
      },
      "outputs": [],
      "source": [
        "def Conclusion(check, output, MinMax, log_record, step_count, method):\n",
        "    row, col = output.shape\n",
        "    obj = 0\n",
        "    x = 0\n",
        "\n",
        "    print(f\"Giải bằng phương pháp: {method}\")\n",
        "\n",
        "    if check == -1:\n",
        "        print(\"Bài toán không giới nội.\")\n",
        "        obj = np.inf\n",
        "        x = (\"Không có nghiệm\")\n",
        "        print(\"Giá trị tối ưu của bài toán: \", obj)\n",
        "        print(x)\n",
        "    else:\n",
        "        obj = output[0, -1]\n",
        "\n",
        "        if MinMax == 1:\n",
        "            obj = -obj\n",
        "        print(output)\n",
        "\n",
        "        if log_record != {}:\n",
        "            for i in log_record:\n",
        "                if log_record[i][0] != '-':\n",
        "                    output = np.delete(output, int(log_record[i][1][1]) - 1, axis=1)\n",
        "                    col -= 1\n",
        "\n",
        "        for i in range(col - 1):\n",
        "            if not is_basic(output[:, i]) and output[1, i] == 0:\n",
        "                print(\"Bài toán vô số nghiệm.\")\n",
        "                x = (\"Vô số nghiệm\")\n",
        "                break\n",
        "            else:\n",
        "                solutions = np.zeros(col - 1)\n",
        "                for i in range(col - 1):\n",
        "                    if is_basic(output[:, i]):\n",
        "                        for j in range(1, row):\n",
        "                            if output[j, i] == 1:\n",
        "                                solutions[i] = output[j, -1]\n",
        "                        x = solutions[:col - row]\n",
        "\n",
        "                if log_record != {}:\n",
        "                    x_new = []\n",
        "                    for i in log_record:\n",
        "                        if log_record[i][0] == '-':\n",
        "                            x_new.append(0 - x[int(i[1]) - 1])\n",
        "                    x = x_new\n",
        "\n",
        "        print(\"Nghiệm tối ưu của bài toán: \")\n",
        "        for i in range(len(x)):\n",
        "            print('\\tx' + str(i + 1) + ': ', x[i])\n",
        "        print(\"Giá trị tối ưu của bài toán: \", -obj)\n",
        "        print(\"Số bước xoay từ vựng: \", step_count)"
      ]
    },
    {
      "cell_type": "markdown",
      "source": [
        "## Main function"
      ],
      "metadata": {
        "id": "Pye9Dl0EJ_Lq"
      }
    },
    {
      "cell_type": "code",
      "execution_count": null,
      "metadata": {
        "id": "VyDTCUIyhF2j"
      },
      "outputs": [],
      "source": [
        "def main():\n",
        "    MinMax, variables, quantity, arrayObj_func, arrayQuantity, arrayVariables = Initialize_the_problem()\n",
        "    ##### Chuẩn hóa bài toán\n",
        "    arrayObj_func, variables, log_record, arrayQuantity, quantity = Normalize(MinMax, arrayObj_func, arrayQuantity, arrayVariables, quantity, variables)\n",
        "    ### đua dữ liệu vào dataframe để giải bài toán theo dạng bảng\n",
        "    df = Initialize_the_problem_into_table(variables, quantity, arrayQuantity, arrayObj_func)\n",
        "\n",
        "    print('KẾT LUẬN'.center(100))\n",
        "    if np.any(df['HeSo'][1:] < 0):  # Nếu trong dataframe có bất kỳ một giá trị bi nào nhỏ hơn 0 sẽ thực hiện 2 pha\n",
        "        check, output, step_count = two_Phase(df)\n",
        "        if check == 0:\n",
        "            print('Bài toán vô nghiệm.')\n",
        "        else:\n",
        "            Conclusion(check, output, MinMax, log_record, step_count)\n",
        "\n",
        "    elif np.all(df['HeSo'][1:] > 0):  # Nếu trong dataframe có tất cả giá trị bi lớn hơn 0 sẽ thực hiện dantzig\n",
        "        array = []\n",
        "        for i in range(np.shape(df)[0]):\n",
        "            array.append([str(df.values[i, j]) for j in range(np.shape(df)[1])])\n",
        "        check, output, step_count = dantzig(array)\n",
        "        Conclusion(check, output, MinMax, log_record, step_count)\n",
        "\n",
        "    elif np.all(df['HeSo'][1:] == 0):  # Nếu tất cả các hệ số của bi đều bằng 0, thực hiện phương pháp đối ngẫu\n",
        "        array = []\n",
        "        for i in range(np.shape(df)[0]):\n",
        "            array.append([str(df.values[i, j]) for j in range(np.shape(df)[1])])\n",
        "        check, output, step_count = dual_simplex(array)\n",
        "        print(\"Giải bằng phương pháp đối ngẫu.\")\n",
        "        Conclusion(check, output, MinMax, log_record, step_count)\n",
        "\n",
        "    else:  # Nếu không nằm trong 3 trường hợp trên thì thực hiện bland\n",
        "        array = []\n",
        "        for i in range(np.shape(df)[0]):\n",
        "            array.append([str(df.values[i, j]) for j in range(np.shape(df)[1])])\n",
        "        check, output, step_count = Bland(array)\n",
        "        print(\"Giải bằng phương pháp Bland.\")\n",
        "        Conclusion(check, output, MinMax, log_record, step_count)\n",
        "\n",
        "if __name__ == '__main__':\n",
        "    main()"
      ]
    },
    {
      "cell_type": "code",
      "source": [
        "# Khởi tạo dữ liệu cho bài toán\n",
        "data = pd.DataFrame({\n",
        "    'x1': [1, 2, -3],\n",
        "    'x2': [1, 1, -2],\n",
        "    's1': [1, 0, 0],\n",
        "    'RHS': [4, 5, 0]\n",
        "})\n",
        "\n",
        "# Gọi hàm two_Phase\n",
        "check, output, step_count = two_Phase(data)\n",
        "\n",
        "# Kiểm tra kết quả\n",
        "print(\"Check:\", check)\n",
        "print(\"Output:\")\n",
        "print(output)\n",
        "print(\"Step count:\", step_count)\n",
        "\n",
        "def is_solution_correct(output):\n",
        "    optimal_value = output.iloc[0, -1]\n",
        "    x1_value = output.iloc[1, -1]\n",
        "    x2_value = output.iloc[2, -1]\n",
        "\n",
        "    # Kiểm tra giá trị tối ưu\n",
        "    if not np.isclose(optimal_value, 11.0):\n",
        "        return False\n",
        "\n",
        "    # Kiểm tra các nghiệm của biến\n",
        "    if not (np.isclose(x1_value, 1.0) and np.isclose(x2_value, 3.0)):\n",
        "        return False\n",
        "\n",
        "    return True\n",
        "\n",
        "# Kiểm tra độ chính xác của nghiệm\n",
        "if check == 0:\n",
        "    print(\"Bài toán vô nghiệm.\")\n",
        "elif check == -1:\n",
        "    print(\"Bài toán không giới nội.\")\n",
        "else:\n",
        "    if is_solution_correct(output):\n",
        "        print(\"Nghiệm đúng.\")\n",
        "    else:\n",
        "        print(\"Nghiệm sai.\")\n"
      ],
      "metadata": {
        "colab": {
          "base_uri": "https://localhost:8080/",
          "height": 350
        },
        "id": "L0e8imugVDR7",
        "outputId": "7e507459-02a3-4f7a-b9aa-3b2727a356c7"
      },
      "execution_count": 170,
      "outputs": [
        {
          "output_type": "error",
          "ename": "IndexError",
          "evalue": "index 0 is out of bounds for axis 0 with size 0",
          "traceback": [
            "\u001b[0;31m---------------------------------------------------------------------------\u001b[0m",
            "\u001b[0;31mIndexError\u001b[0m                                Traceback (most recent call last)",
            "\u001b[0;32m<ipython-input-170-4dc86ca58070>\u001b[0m in \u001b[0;36m<cell line: 10>\u001b[0;34m()\u001b[0m\n\u001b[1;32m      8\u001b[0m \u001b[0;34m\u001b[0m\u001b[0m\n\u001b[1;32m      9\u001b[0m \u001b[0;31m# Gọi hàm two_Phase\u001b[0m\u001b[0;34m\u001b[0m\u001b[0;34m\u001b[0m\u001b[0m\n\u001b[0;32m---> 10\u001b[0;31m \u001b[0mcheck\u001b[0m\u001b[0;34m,\u001b[0m \u001b[0moutput\u001b[0m\u001b[0;34m,\u001b[0m \u001b[0mstep_count\u001b[0m \u001b[0;34m=\u001b[0m \u001b[0mtwo_Phase\u001b[0m\u001b[0;34m(\u001b[0m\u001b[0mdata\u001b[0m\u001b[0;34m)\u001b[0m\u001b[0;34m\u001b[0m\u001b[0;34m\u001b[0m\u001b[0m\n\u001b[0m\u001b[1;32m     11\u001b[0m \u001b[0;34m\u001b[0m\u001b[0m\n\u001b[1;32m     12\u001b[0m \u001b[0;31m# Kiểm tra kết quả\u001b[0m\u001b[0;34m\u001b[0m\u001b[0;34m\u001b[0m\u001b[0m\n",
            "\u001b[0;32m<ipython-input-169-f3c06aa5d5da>\u001b[0m in \u001b[0;36mtwo_Phase\u001b[0;34m(data)\u001b[0m\n\u001b[1;32m     13\u001b[0m     \u001b[0;31m# Pha 1\u001b[0m\u001b[0;34m\u001b[0m\u001b[0;34m\u001b[0m\u001b[0m\n\u001b[1;32m     14\u001b[0m     \u001b[0mx0_index\u001b[0m \u001b[0;34m=\u001b[0m \u001b[0mFind_x0_Index\u001b[0m\u001b[0;34m(\u001b[0m\u001b[0mdf\u001b[0m\u001b[0;34m)\u001b[0m\u001b[0;34m\u001b[0m\u001b[0;34m\u001b[0m\u001b[0m\n\u001b[0;32m---> 15\u001b[0;31m     \u001b[0mcheck\u001b[0m\u001b[0;34m,\u001b[0m \u001b[0moutput\u001b[0m \u001b[0;34m=\u001b[0m \u001b[0mPhase1\u001b[0m\u001b[0;34m(\u001b[0m\u001b[0mdata\u001b[0m\u001b[0;34m,\u001b[0m \u001b[0mmatrix_data\u001b[0m\u001b[0;34m,\u001b[0m \u001b[0mdf\u001b[0m\u001b[0;34m,\u001b[0m \u001b[0mmatrix\u001b[0m\u001b[0;34m,\u001b[0m \u001b[0mcols_data\u001b[0m\u001b[0;34m,\u001b[0m \u001b[0mrows_data\u001b[0m\u001b[0;34m,\u001b[0m \u001b[0mcols\u001b[0m\u001b[0;34m,\u001b[0m \u001b[0mrows\u001b[0m\u001b[0;34m,\u001b[0m \u001b[0mx0_index\u001b[0m\u001b[0;34m)\u001b[0m\u001b[0;34m\u001b[0m\u001b[0;34m\u001b[0m\u001b[0m\n\u001b[0m\u001b[1;32m     16\u001b[0m \u001b[0;34m\u001b[0m\u001b[0m\n\u001b[1;32m     17\u001b[0m     \u001b[0;31m# Biến đếm bước xoay từ vựng\u001b[0m\u001b[0;34m\u001b[0m\u001b[0;34m\u001b[0m\u001b[0m\n",
            "\u001b[0;32m<ipython-input-150-10cecf8f19d1>\u001b[0m in \u001b[0;36mPhase1\u001b[0;34m(data, matrix_data, df, matrix, cols_data, rows_data, cols, rows, x0_index)\u001b[0m\n\u001b[1;32m      8\u001b[0m         \u001b[0mmatrix\u001b[0m \u001b[0;34m=\u001b[0m \u001b[0mnp\u001b[0m\u001b[0;34m.\u001b[0m\u001b[0mdelete\u001b[0m\u001b[0;34m(\u001b[0m\u001b[0mmatrix\u001b[0m\u001b[0;34m,\u001b[0m \u001b[0mnp\u001b[0m\u001b[0;34m.\u001b[0m\u001b[0ms_\u001b[0m\u001b[0;34m[\u001b[0m\u001b[0mx0_index\u001b[0m\u001b[0;34m:\u001b[0m\u001b[0mx0_index\u001b[0m\u001b[0;34m+\u001b[0m\u001b[0;36m1\u001b[0m\u001b[0;34m]\u001b[0m\u001b[0;34m,\u001b[0m \u001b[0maxis\u001b[0m\u001b[0;34m=\u001b[0m\u001b[0;36m1\u001b[0m\u001b[0;34m)\u001b[0m\u001b[0;34m\u001b[0m\u001b[0;34m\u001b[0m\u001b[0m\n\u001b[1;32m      9\u001b[0m \u001b[0;34m\u001b[0m\u001b[0m\n\u001b[0;32m---> 10\u001b[0;31m         \u001b[0mdf\u001b[0m \u001b[0;34m=\u001b[0m \u001b[0mAcceptableTable\u001b[0m\u001b[0;34m(\u001b[0m\u001b[0mdata\u001b[0m\u001b[0;34m,\u001b[0m \u001b[0mmatrix_data\u001b[0m\u001b[0;34m,\u001b[0m \u001b[0mdf\u001b[0m\u001b[0;34m,\u001b[0m \u001b[0mmatrix\u001b[0m\u001b[0;34m,\u001b[0m \u001b[0mcols_data\u001b[0m\u001b[0;34m,\u001b[0m \u001b[0mrows_data\u001b[0m\u001b[0;34m,\u001b[0m \u001b[0mcols\u001b[0m\u001b[0;34m,\u001b[0m \u001b[0mrows\u001b[0m\u001b[0;34m)\u001b[0m\u001b[0;34m\u001b[0m\u001b[0;34m\u001b[0m\u001b[0m\n\u001b[0m\u001b[1;32m     11\u001b[0m         \u001b[0;32mreturn\u001b[0m \u001b[0mcheck\u001b[0m\u001b[0;34m,\u001b[0m \u001b[0mdf\u001b[0m\u001b[0;34m\u001b[0m\u001b[0;34m\u001b[0m\u001b[0m\n\u001b[1;32m     12\u001b[0m     \u001b[0;32mreturn\u001b[0m \u001b[0mcheck\u001b[0m\u001b[0;34m,\u001b[0m \u001b[0mdf\u001b[0m\u001b[0;34m\u001b[0m\u001b[0;34m\u001b[0m\u001b[0m\n",
            "\u001b[0;32m<ipython-input-149-8a984696bea7>\u001b[0m in \u001b[0;36mAcceptableTable\u001b[0;34m(data, matrix_data, df, matrix, cols_data, rows_data, cols, rows)\u001b[0m\n\u001b[1;32m      2\u001b[0m \u001b[0;32mdef\u001b[0m \u001b[0mAcceptableTable\u001b[0m\u001b[0;34m(\u001b[0m\u001b[0mdata\u001b[0m\u001b[0;34m,\u001b[0m \u001b[0mmatrix_data\u001b[0m\u001b[0;34m,\u001b[0m \u001b[0mdf\u001b[0m\u001b[0;34m,\u001b[0m \u001b[0mmatrix\u001b[0m\u001b[0;34m,\u001b[0m \u001b[0mcols_data\u001b[0m\u001b[0;34m,\u001b[0m \u001b[0mrows_data\u001b[0m\u001b[0;34m,\u001b[0m \u001b[0mcols\u001b[0m\u001b[0;34m,\u001b[0m \u001b[0mrows\u001b[0m\u001b[0;34m)\u001b[0m\u001b[0;34m:\u001b[0m\u001b[0;34m\u001b[0m\u001b[0;34m\u001b[0m\u001b[0m\n\u001b[1;32m      3\u001b[0m     \u001b[0;31m# Tim z_new va them z_new vao ma tran\u001b[0m\u001b[0;34m\u001b[0m\u001b[0;34m\u001b[0m\u001b[0m\n\u001b[0;32m----> 4\u001b[0;31m     \u001b[0mz_new\u001b[0m \u001b[0;34m=\u001b[0m \u001b[0mNew_z\u001b[0m\u001b[0;34m(\u001b[0m\u001b[0mdata\u001b[0m\u001b[0;34m,\u001b[0m \u001b[0mmatrix_data\u001b[0m\u001b[0;34m,\u001b[0m \u001b[0mmatrix\u001b[0m\u001b[0;34m,\u001b[0m \u001b[0mcols_data\u001b[0m\u001b[0;34m,\u001b[0m \u001b[0mrows_data\u001b[0m\u001b[0;34m,\u001b[0m \u001b[0mcols\u001b[0m\u001b[0;34m,\u001b[0m \u001b[0mrows\u001b[0m\u001b[0;34m)\u001b[0m\u001b[0;34m\u001b[0m\u001b[0;34m\u001b[0m\u001b[0m\n\u001b[0m\u001b[1;32m      5\u001b[0m     \u001b[0mmatrix\u001b[0m\u001b[0;34m[\u001b[0m\u001b[0;36m0\u001b[0m\u001b[0;34m]\u001b[0m\u001b[0;34m[\u001b[0m\u001b[0;34m:\u001b[0m\u001b[0;34m]\u001b[0m \u001b[0;34m=\u001b[0m \u001b[0mz_new\u001b[0m\u001b[0;34m\u001b[0m\u001b[0;34m\u001b[0m\u001b[0m\n\u001b[1;32m      6\u001b[0m \u001b[0;34m\u001b[0m\u001b[0m\n",
            "\u001b[0;32m<ipython-input-148-2a15efa83ba2>\u001b[0m in \u001b[0;36mNew_z\u001b[0;34m(data, matrix_data, matrix, cols_data, rows_data, cols, rows)\u001b[0m\n\u001b[1;32m      6\u001b[0m \u001b[0;34m\u001b[0m\u001b[0m\n\u001b[1;32m      7\u001b[0m     \u001b[0;31m# Tim cac bien co so sau khi giai bai toan bo tro\u001b[0m\u001b[0;34m\u001b[0m\u001b[0;34m\u001b[0m\u001b[0m\n\u001b[0;32m----> 8\u001b[0;31m     \u001b[0mbasic_variables\u001b[0m \u001b[0;34m=\u001b[0m \u001b[0mFindBasicVariables\u001b[0m\u001b[0;34m(\u001b[0m\u001b[0mmatrix\u001b[0m\u001b[0;34m,\u001b[0m \u001b[0mcols\u001b[0m\u001b[0;34m,\u001b[0m \u001b[0mrows\u001b[0m\u001b[0;34m)\u001b[0m\u001b[0;34m\u001b[0m\u001b[0;34m\u001b[0m\u001b[0m\n\u001b[0m\u001b[1;32m      9\u001b[0m     \u001b[0mbv_index\u001b[0m \u001b[0;34m=\u001b[0m \u001b[0;34m[\u001b[0m\u001b[0;34m]\u001b[0m \u001b[0;31m# Tao danh sach chua vi tri cua cac bien co so trong moi cot\u001b[0m\u001b[0;34m\u001b[0m\u001b[0;34m\u001b[0m\u001b[0m\n\u001b[1;32m     10\u001b[0m     \u001b[0mbv_rows\u001b[0m \u001b[0;34m=\u001b[0m \u001b[0;34m[\u001b[0m\u001b[0;34m]\u001b[0m \u001b[0;31m# Tao danh sach chua dong chua bien co so trong mot cot\u001b[0m\u001b[0;34m\u001b[0m\u001b[0;34m\u001b[0m\u001b[0m\n",
            "\u001b[0;32m<ipython-input-147-e77f082f552e>\u001b[0m in \u001b[0;36mFindBasicVariables\u001b[0;34m(matrix, cols, rows)\u001b[0m\n\u001b[1;32m     13\u001b[0m         \u001b[0;32mif\u001b[0m \u001b[0mcount0\u001b[0m \u001b[0;34m+\u001b[0m \u001b[0mcount1\u001b[0m \u001b[0;34m==\u001b[0m \u001b[0mrows\u001b[0m\u001b[0;34m:\u001b[0m\u001b[0;34m\u001b[0m\u001b[0;34m\u001b[0m\u001b[0m\n\u001b[1;32m     14\u001b[0m             \u001b[0mrow_index\u001b[0m \u001b[0;34m=\u001b[0m \u001b[0mnp\u001b[0m\u001b[0;34m.\u001b[0m\u001b[0mwhere\u001b[0m\u001b[0;34m(\u001b[0m\u001b[0mc1\u001b[0m \u001b[0;34m==\u001b[0m \u001b[0;32mTrue\u001b[0m\u001b[0;34m)\u001b[0m\u001b[0;34m\u001b[0m\u001b[0;34m\u001b[0m\u001b[0m\n\u001b[0;32m---> 15\u001b[0;31m             \u001b[0mbasic_variables_index\u001b[0m\u001b[0;34m.\u001b[0m\u001b[0mappend\u001b[0m\u001b[0;34m(\u001b[0m\u001b[0;34m(\u001b[0m\u001b[0mi\u001b[0m\u001b[0;34m,\u001b[0m \u001b[0mrow_index\u001b[0m\u001b[0;34m[\u001b[0m\u001b[0;36m0\u001b[0m\u001b[0;34m]\u001b[0m\u001b[0;34m[\u001b[0m\u001b[0;36m0\u001b[0m\u001b[0;34m]\u001b[0m\u001b[0;34m)\u001b[0m\u001b[0;34m)\u001b[0m\u001b[0;34m\u001b[0m\u001b[0;34m\u001b[0m\u001b[0m\n\u001b[0m\u001b[1;32m     16\u001b[0m \u001b[0;34m\u001b[0m\u001b[0m\n\u001b[1;32m     17\u001b[0m     \u001b[0;32mreturn\u001b[0m \u001b[0mbasic_variables_index\u001b[0m\u001b[0;34m\u001b[0m\u001b[0;34m\u001b[0m\u001b[0m\n",
            "\u001b[0;31mIndexError\u001b[0m: index 0 is out of bounds for axis 0 with size 0"
          ]
        }
      ]
    }
  ],
  "metadata": {
    "kernelspec": {
      "display_name": "Python 3 (ipykernel)",
      "language": "python",
      "name": "python3"
    },
    "language_info": {
      "codemirror_mode": {
        "name": "ipython",
        "version": 3
      },
      "file_extension": ".py",
      "mimetype": "text/x-python",
      "name": "python",
      "nbconvert_exporter": "python",
      "pygments_lexer": "ipython3",
      "version": "3.10.11"
    },
    "colab": {
      "provenance": [],
      "include_colab_link": true
    }
  },
  "nbformat": 4,
  "nbformat_minor": 0
}