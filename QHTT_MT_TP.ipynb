{
  "nbformat": 4,
  "nbformat_minor": 0,
  "metadata": {
    "colab": {
      "provenance": [],
      "authorship_tag": "ABX9TyONpPO8ZXA1ryQUttUOrwle",
      "include_colab_link": true
    },
    "kernelspec": {
      "name": "python3",
      "display_name": "Python 3"
    },
    "language_info": {
      "name": "python"
    }
  },
  "cells": [
    {
      "cell_type": "markdown",
      "metadata": {
        "id": "view-in-github",
        "colab_type": "text"
      },
      "source": [
        "<a href=\"https://colab.research.google.com/github/LeeTunMT/python/blob/main/QHTT_MT_TP.ipynb\" target=\"_parent\"><img src=\"https://colab.research.google.com/assets/colab-badge.svg\" alt=\"Open In Colab\"/></a>"
      ]
    },
    {
      "cell_type": "code",
      "source": [
        "!pip install --upgrade pulp"
      ],
      "metadata": {
        "colab": {
          "base_uri": "https://localhost:8080/"
        },
        "id": "T_P2hjiuEWfU",
        "outputId": "b6295907-a0c0-4be8-db10-4ed750913cb9"
      },
      "execution_count": 2,
      "outputs": [
        {
          "output_type": "stream",
          "name": "stdout",
          "text": [
            "Collecting pulp\n",
            "  Downloading PuLP-2.8.0-py3-none-any.whl (17.7 MB)\n",
            "\u001b[2K     \u001b[90m━━━━━━━━━━━━━━━━━━━━━━━━━━━━━━━━━━━━━━━━\u001b[0m \u001b[32m17.7/17.7 MB\u001b[0m \u001b[31m46.5 MB/s\u001b[0m eta \u001b[36m0:00:00\u001b[0m\n",
            "\u001b[?25hInstalling collected packages: pulp\n",
            "Successfully installed pulp-2.8.0\n"
          ]
        }
      ]
    },
    {
      "cell_type": "code",
      "source": [
        "from pulp import *\n",
        "solver = PULP_CBC_CMD()"
      ],
      "metadata": {
        "id": "qWHGncFtAJSN"
      },
      "execution_count": 3,
      "outputs": []
    },
    {
      "cell_type": "code",
      "execution_count": 13,
      "metadata": {
        "colab": {
          "base_uri": "https://localhost:8080/"
        },
        "id": "90N27k1m_852",
        "outputId": "da09d8f0-66fb-4011-d685-ae678a4a70b2"
      },
      "outputs": [
        {
          "output_type": "stream",
          "name": "stdout",
          "text": [
            "Enter the number of variables: 2\n",
            "Enter the name of variable 1: x\n",
            "Enter the name of variable 2: y\n",
            "Enter the objective function (e.g., 3*x + 5*y): x + y\n",
            "Objective type (min/max): max \n",
            "Enter the number of constraints: 5\n",
            "Enter constraint 1 (e.g., x + y <= 100): x + 2*y <= 6\n",
            "Enter constraint 2 (e.g., x + y <= 100): 2*x + y <= 8\n",
            "Enter constraint 3 (e.g., x + y <= 100): y <= 2\n",
            "Enter constraint 4 (e.g., x + y <= 100): x >= 0\n",
            "Enter constraint 5 (e.g., x + y <= 100): y >= 0\n",
            "Choose a solution method (geometric/simplex/two_phase/dual): simplex\n",
            "The problem is infeasible or unbounded.\n"
          ]
        }
      ],
      "source": [
        "!pip install --upgrade pulp\n",
        "from pulp import *\n",
        "solver = PULP_CBC_CMD()\n",
        "from scipy.optimize import linprog\n",
        "import numpy as np\n",
        "\n",
        "def input_problem():\n",
        "    n = int(input(\"Enter the number of variables: \"))\n",
        "\n",
        "    variables = {}\n",
        "    for i in range(n):\n",
        "        var_name = input(f\"Enter the name of variable {i+1}: \")\n",
        "        variables[var_name] = LpVariable(var_name, lowBound=0)\n",
        "\n",
        "    obj = input(\"Enter the objective function (e.g., 3*x + 5*y): \")\n",
        "    obj_type = input(\"Objective type (min/max): \")\n",
        "\n",
        "    m = int(input(\"Enter the number of constraints: \"))\n",
        "    constraints = []\n",
        "    for i in range(m):\n",
        "        cons = input(f\"Enter constraint {i+1} (e.g., x + y <= 100): \")\n",
        "        constraints.append(cons)\n",
        "\n",
        "    return n, variables, obj, obj_type, m, constraints\n",
        "\n",
        "def convert_to_standard_form(n, variables, obj, obj_type, m, constraints):\n",
        "    # Convert constraints to standard form (add slack variables)\n",
        "    standard_constraints = []\n",
        "    for cons in constraints:\n",
        "        standard_constraints.append(cons + \" <= 0\")\n",
        "\n",
        "    # Create initial tableau for phase one\n",
        "    tableau = np.zeros((m + 1, n + m + 1))\n",
        "    for i in range(m):\n",
        "        tableau[i, :n] = eval(constraints[i], {**variables, **locals()})\n",
        "        tableau[i, n + i] = 1\n",
        "        tableau[i, -1] = eval(constraints[i].split()[1])\n",
        "\n",
        "    # Set up the objective function for phase one\n",
        "    c_phase_one = np.zeros(n + m + 1)\n",
        "    c_phase_one[-1] = -1  # Minimize the artificial variable\n",
        "\n",
        "    return tableau, c_phase_one\n",
        "\n",
        "def solve_lp(n, variables, obj, obj_type, m, constraints, method):\n",
        "    # Convert constraints to standard form (add slack variables)\n",
        "    standard_constraints = []\n",
        "    for cons in constraints:\n",
        "        standard_constraints.append(cons + \" <= 0\")\n",
        "\n",
        "    # Solve using the chosen method\n",
        "    if method == \"geometric\":\n",
        "        if obj_type == \"max\":\n",
        "            result = linprog(c=[-1, -1], A_ub=standard_constraints, bounds=[(0, None), (0, None)])\n",
        "        else:\n",
        "            result = linprog(c=[1, 1], A_ub=standard_constraints, bounds=[(0, None), (0, None)])\n",
        "        return result\n",
        "    elif method == \"simplex\":\n",
        "        # Implement simplex method here\n",
        "      def objective_function(coefficients, variables):\n",
        "          return sum(c * x for c, x in zip(coefficients, variables))\n",
        "\n",
        "      # Hàm kiểm tra điều kiện kết thúc\n",
        "      def is_optimal(coefficients):=\n",
        "          return all(c >= 0 for c in coefficients)\n",
        "\n",
        "      # Triển khai phương pháp đơn hình\n",
        "      def simplex_method(coefficients, constraints):\n",
        "          # Khởi tạo biến cơ sở và biến không cơ sở\n",
        "          # Tạo bảng đơn hình ban đầu\n",
        "          num_iterations = 0\n",
        "\n",
        "          while not is_optimal(coefficients):\n",
        "              # Chọn biến ra và biến vào\n",
        "              # Thực hiện phép xoay từ vựng\n",
        "              # Cập nhật bảng đơn hình\n",
        "              num_iterations += 1\n",
        "\n",
        "          return coefficients, num_iterations  # Kết quả tối ưu và số bước lặp\n",
        "\n",
        "    elif method == \"two_phase\":\n",
        "      def solve_two_phase_simplex(tableau, c_phase_one):\n",
        "          while True:\n",
        "              # Check if the current solution is optimal\n",
        "              if np.all(tableau[-1, :-1] >= 0):\n",
        "                  break\n",
        "\n",
        "              # Find the pivot column (entering variable)\n",
        "              pivot_col = np.argmin(tableau[-1, :-1])\n",
        "\n",
        "              # Find the pivot row (leaving variable)\n",
        "              ratios = tableau[:-1, -1] / tableau[:-1, pivot_col]\n",
        "              ratios[ratios < 0] = np.inf  # Ignore negative ratios\n",
        "              pivot_row = np.argmin(ratios)\n",
        "\n",
        "              # Perform pivot operation\n",
        "              pivot_value = tableau[pivot_row, pivot_col]\n",
        "              tableau[pivot_row, :] /= pivot_value\n",
        "              for i in range(m + 1):\n",
        "                  if i != pivot_row:\n",
        "                      factor = tableau[i, pivot_col]\n",
        "                      tableau[i, :] -= factor * tableau[pivot_row, :]\n",
        "\n",
        "          return tableau\n",
        "    elif method == \"dual\":\n",
        "      def solve_dual_simplex(tableau, c_phase_one):\n",
        "          while True:\n",
        "              # Check if the current solution is optimal\n",
        "              if np.all(tableau[-1, :-1] >= 0):\n",
        "                  break\n",
        "\n",
        "              # Find the pivot column (entering variable)\n",
        "              pivot_col = np.argmin(tableau[-1, :-1])\n",
        "\n",
        "              # Find the pivot row (leaving variable)\n",
        "              ratios = tableau[:-1, -1] / tableau[:-1, pivot_col]\n",
        "              ratios[ratios < 0] = np.inf  # Ignore negative ratios\n",
        "              pivot_row = np.argmin(ratios)\n",
        "\n",
        "              # Perform pivot operation\n",
        "              pivot_value = tableau[pivot_row, pivot_col]\n",
        "              tableau[pivot_row, :] /= pivot_value\n",
        "              for i in range(m + 1):\n",
        "                  if i != pivot_row:\n",
        "                      factor = tableau[i, pivot_col]\n",
        "                      tableau[i, :] -= factor * tableau[pivot_row, :]\n",
        "\n",
        "          return tableau\n",
        "    else:\n",
        "        print(\"Invalid method choice.\")\n",
        "        return None\n",
        "\n",
        "def print_results(result, variables):\n",
        "    if result is not None and result.success:\n",
        "        print(\"Optimal solution:\")\n",
        "        for var, val in zip(variables.keys(), result.x):\n",
        "            print(f\"{var} = {round(val, 4)}\")\n",
        "        print(\"Optimal value:\", round(result.fun, 4))\n",
        "        if result.status == 0:\n",
        "            print(\"Unique solution.\")\n",
        "        elif result.status == 2:\n",
        "            print(\"Infeasible problem.\")\n",
        "        elif result.status == 3:\n",
        "            print(\"Unbounded problem.\")\n",
        "        else:\n",
        "            print(\"Other cases.\")\n",
        "    else:\n",
        "        print(\"The problem is infeasible or unbounded.\")\n",
        "\n",
        "if __name__ == \"__main__\":\n",
        "    n, variables, obj, obj_type, m, constraints = input_problem()\n",
        "    method = input(\"Choose a solution method (geometric/simplex/two_phase/dual): \")\n",
        "    result = solve_lp(n, variables, obj, obj_type, m, constraints, method)\n",
        "    print_results(result, variables)\n"
      ]
    }
  ]
}